{
  "nbformat": 4,
  "nbformat_minor": 0,
  "metadata": {
    "colab": {
      "provenance": [],
      "authorship_tag": "ABX9TyNJ6tD6JMRirxcDK3aB7Tq2",
      "include_colab_link": true
    },
    "kernelspec": {
      "name": "python3",
      "display_name": "Python 3"
    },
    "language_info": {
      "name": "python"
    }
  },
  "cells": [
    {
      "cell_type": "markdown",
      "metadata": {
        "id": "view-in-github",
        "colab_type": "text"
      },
      "source": [
        "<a href=\"https://colab.research.google.com/github/kilka-bez-hvosta/university_tasks/blob/main/AVL_Tree.ipynb\" target=\"_parent\"><img src=\"https://colab.research.google.com/assets/colab-badge.svg\" alt=\"Open In Colab\"/></a>"
      ]
    },
    {
      "cell_type": "markdown",
      "source": [
        "Реализуем наше AVL-Дерево, описав его структуру с помощью классов.\n",
        "\n",
        "Первый шаг: узел."
      ],
      "metadata": {
        "id": "sookVqjf3c2t"
      }
    },
    {
      "cell_type": "code",
      "execution_count": null,
      "metadata": {
        "id": "EAfmkZzx3ZSq"
      },
      "outputs": [],
      "source": [
        "class Node:\n",
        "    def __init__(self, value):\n",
        "        self.value = value\n",
        "        self.left = None\n",
        "        self.right = None\n",
        "        self.height = 1\n",
        "\n",
        "    def display(self):\n",
        "        lines, *_ = self._display_aux()\n",
        "        for line in lines:\n",
        "            print(line)\n",
        "\n",
        "    def _display_aux(self): # собирает построчно все вершины\n",
        "        # Если у вершины нет потомков - она вернет только одну строку содержающую эту вершину.\n",
        "        if self.right is None and self.left is None:\n",
        "            line = \"%s\" % self.value\n",
        "            width = len(line)\n",
        "            height = 1\n",
        "            middle = width // 2\n",
        "            return [line], width, height, middle\n",
        "        # Если у вершины есть один из потомков, помимо самой вершины функция вернет и следующего потомка с учетом отступов.\n",
        "        if self.right is None:\n",
        "            lines, n, p, x = self.left._display_aux()\n",
        "            s = \"%s\" % self.value\n",
        "            u = len(s)\n",
        "            first_line = (x + 1) * \" \" + (n - x - 1) * \"_\" + s\n",
        "            second_line = x * \" \" + \"/\" + (n - x - 1 + u) * \" \"\n",
        "            shifted_lines = [line + u * \" \" for line in lines]\n",
        "            return [first_line, second_line] + shifted_lines, n + u, p + 2, n + u // 2\n",
        "        if self.left is None:\n",
        "            lines, n, p, x = self.right._display_aux()\n",
        "            s = \"%s\" % self.value\n",
        "            u = len(s)\n",
        "            first_line = s + x * \"_\" + (n - x) * \" \"\n",
        "            second_line = (u + x) * \" \" + \"\\\\\" + (n - x - 1) * \" \"\n",
        "            shifted_lines = [u * \" \" + line for line in lines]\n",
        "            return [first_line, second_line] + shifted_lines, n + u, p + 2, u // 2\n",
        "        # Если у вершины оба потомка, то функция соберет результаты работы с их потомков, а затем сольет результаты с учетом отступов.\n",
        "        left, n, p, x = self.left._display_aux()\n",
        "        right, m, q, y = self.right._display_aux()\n",
        "        s = \"%s\" % self.value\n",
        "        u = len(s)\n",
        "        first_line = (x + 1) * \" \" + (n - x - 1) * \"_\" + s + y * \"_\" + (m - y) * \" \"\n",
        "        second_line = (\n",
        "            x * \" \" + \"/\" + (n - x - 1 + u + y) * \" \" + \"\\\\\" + (m - y - 1) * \" \"\n",
        "        )\n",
        "        if p < q:\n",
        "            left += [n * \" \"] * (q - p)\n",
        "        elif q < p:\n",
        "            right += [m * \" \"] * (p - q)\n",
        "        zipped_lines = zip(left, right)\n",
        "        lines = [first_line, second_line] + [a + u * \" \" + b for a, b in zipped_lines]\n",
        "        return lines, n + m + u, max(p, q) + 2, n + u // 2\n"
      ]
    },
    {
      "cell_type": "markdown",
      "source": [
        "Второй шаг: дерево"
      ],
      "metadata": {
        "id": "3IXvaSvFLIYE"
      }
    },
    {
      "cell_type": "code",
      "source": [
        "\n",
        "class AVLTree:\n",
        "    # Инициализация\n",
        "    def __init__(self):\n",
        "        self.root = None\n",
        "\n",
        "    def height(self, node):\n",
        "        if not node:\n",
        "            return 0\n",
        "        return node.height\n",
        "    # Расчет баланса\n",
        "    def balance(self, node):\n",
        "        if not node:\n",
        "            return 0\n",
        "        return self.height(node.left) - self.height(node.right)\n",
        "    # Вставка нового узла\n",
        "    def insert(self, root, value):\n",
        "        if not root:\n",
        "            return Node(value) # если дерево пустое - вернем новый узел, который станет корнем\n",
        "        elif value < root.value: # проверяем в какое поддерево попадет новый узел (рекурсивно отправляем его туда)\n",
        "            root.left = self.insert(root.left, value)\n",
        "        else:\n",
        "            root.right = self.insert(root.right, value)\n",
        "\n",
        "\n",
        "        root.height = 1 + max(self.height(root.left), self.height(root.right)) # меняем высоту каждого поддерева, в которое попали, т.к. он в пути нового узла\n",
        "        balance = self.balance(root) # перерасчитываем балансировку\n",
        "\n",
        "        # Левый поворот\n",
        "        if balance > 1 and value < root.left.value:\n",
        "            return self.right_rotate(root)\n",
        "\n",
        "        # Правый поворот\n",
        "        if balance < -1 and value > root.right.value:\n",
        "            return self.left_rotate(root)\n",
        "\n",
        "        # Большой поворот Лево-Право\n",
        "        if balance > 1 and value > root.left.value:\n",
        "            root.left = self.left_rotate(root.left)\n",
        "            return self.right_rotate(root)\n",
        "\n",
        "        # Большой поворот Право-Лево\n",
        "        if balance < -1 and value < root.right.value:\n",
        "            root.right = self.right_rotate(root.right)\n",
        "            return self.left_rotate(root)\n",
        "\n",
        "        return root\n",
        "    # Удаление узла\n",
        "    def delete(self, root, value):\n",
        "        if not root: # нет дерева - нет узла\n",
        "            return root\n",
        "        if value < root.value: # рекурсивно ищем узел по условию\n",
        "            root.left = self.delete(root.left, value)\n",
        "        elif value > root.value:\n",
        "            root.right = self.delete(root.right, value)\n",
        "        else:\n",
        "        # если одного из поддеревьев нет, то вершина существующего встанет на место удаляемого\n",
        "            if not root.left:\n",
        "                temp = root.right\n",
        "                root = None\n",
        "                return temp\n",
        "            elif not root.right:\n",
        "                temp = root.left\n",
        "                root = None\n",
        "                return temp\n",
        "\n",
        "            temp = self.min_value_node(root.right)\n",
        "            root.value = temp.value\n",
        "            root.right = self.delete(root.right, temp.value)\n",
        "\n",
        "        if not root:\n",
        "            return root\n",
        "\n",
        "        root.height = 1 + max(self.height(root.left), self.height(root.right)) # меняем высоту каждого поддерева в которое попали так как удалили кого-то из его потомков\n",
        "        balance = self.balance(root) # перерасчет баланса\n",
        "\n",
        "        # Левый поворот\n",
        "        if balance > 1 and self.balance(root.left) >= 0:\n",
        "            return self.right_rotate(root)\n",
        "\n",
        "        # Правый поворот\n",
        "        if balance < -1 and self.balance(root.right) <= 0:\n",
        "            return self.left_rotate(root)\n",
        "\n",
        "        # Большой Лево-Правый поворот\n",
        "        if balance > 1 and self.balance(root.left) < 0:\n",
        "            root.left = self.left_rotate(root.left)\n",
        "            return self.right_rotate(root)\n",
        "\n",
        "        # Большой Право-Левый поворот\n",
        "        if balance < -1 and self.balance(root.right) > 0:\n",
        "            root.right = self.right_rotate(root.right)\n",
        "            return self.left_rotate(root)\n",
        "\n",
        "        return root\n",
        "    # Левый поворот\n",
        "    def left_rotate(self, z):\n",
        "        y = z.right\n",
        "        T2 = y.left\n",
        "\n",
        "        y.left = z\n",
        "        z.right = T2\n",
        "\n",
        "        z.height = 1 + max(self.height(z.left), self.height(z.right))\n",
        "        y.height = 1 + max(self.height(y.left), self.height(y.right))\n",
        "\n",
        "        return y\n",
        "\n",
        "    def right_rotate(self, z):\n",
        "        y = z.left\n",
        "        T3 = y.right\n",
        "\n",
        "        y.right = z\n",
        "        z.left = T3\n",
        "\n",
        "        z.height = 1 + max(self.height(z.left), self.height(z.right))\n",
        "        y.height = 1 + max(self.height(y.left), self.height(y.right))\n",
        "\n",
        "        return y\n",
        "\n",
        "    def min_value_node(self, root):\n",
        "        current = root\n",
        "        while current.left:\n",
        "            current = current.left\n",
        "        return current\n",
        "\n",
        "    def search(self, root, value):\n",
        "        print(f\"way: {root.value}\")\n",
        "        if not root or root.value == value:\n",
        "            return root\n",
        "        if root.value < value:\n",
        "            return self.search(root.right, value)\n",
        "        return self.search(root.left, value)\n",
        "\n",
        "    def insert_value(self, value):\n",
        "        self.root = self.insert(self.root, value)\n",
        "\n",
        "    def delete_value(self, value):\n",
        "        self.root = self.delete(self.root, value)\n",
        "\n",
        "    def search_value(self, value):\n",
        "        return self.search(self.root, value)\n",
        "\n",
        "\n"
      ],
      "metadata": {
        "id": "5D9HtXgGKy_b"
      },
      "execution_count": null,
      "outputs": []
    },
    {
      "cell_type": "markdown",
      "source": [
        "Шаг третий: примеры"
      ],
      "metadata": {
        "id": "ece4Oh9EL9Pz"
      }
    },
    {
      "cell_type": "markdown",
      "source": [
        "Вставка:"
      ],
      "metadata": {
        "id": "g34CFD8RtWD9"
      }
    },
    {
      "cell_type": "code",
      "source": [
        "tree = AVLTree()\n",
        "for i in range(10, 1000, 10):\n",
        "  tree.insert_value(i)\n",
        "\n",
        "\n",
        "tree.root.display()"
      ],
      "metadata": {
        "colab": {
          "base_uri": "https://localhost:8080/"
        },
        "id": "DCVPnaG5XPlL",
        "outputId": "a5fd3158-aba9-4b83-ecdf-2e3688c4293c"
      },
      "execution_count": null,
      "outputs": [
        {
          "output_type": "stream",
          "name": "stdout",
          "text": [
            "                                                                                      ______________________________________________________________________________________________640______________________________________________                                                           \n",
            "                                                                                     /                                                                                                                                               \\                                                          \n",
            "                                      ______________________________________________320______________________________________________                                                                         ______________________800______________________                                   \n",
            "                                     /                                                                                               \\                                                                       /                                               \\                                  \n",
            "                ____________________160______________________                                                 ______________________480______________________                                     __________720__________                         __________880__________                       \n",
            "               /                                             \\                                               /                                               \\                                   /                       \\                       /                       \\                      \n",
            "        ______80_________                         __________240__________                         __________400__________                         __________560__________                   ____680____             ____760____             ____840____             ____920__________           \n",
            "       /                 \\                       /                       \\                       /                       \\                       /                       \\                 /           \\           /           \\           /           \\           /                 \\          \n",
            "    __40___         ____120____             ____200____             ____280____             ____360____             ____440____             ____520____             ____600____          _660_       _700_       _740_       _780_       _820_       _860_       _900_          ____960____     \n",
            "   /       \\       /           \\           /           \\           /           \\           /           \\           /           \\           /           \\           /           \\        /     \\     /     \\     /     \\     /     \\     /     \\     /     \\     /     \\        /           \\    \n",
            "  20_     60_     100_       _140_       _180_       _220_       _260_       _300_       _340_       _380_       _420_       _460_       _500_       _540_       _580_       _620_     650   670   690   710   730   750   770   790   810   830   850   870   890   910     _940_       _980_  \n",
            " /   \\   /   \\   /    \\     /     \\     /     \\     /     \\     /     \\     /     \\     /     \\     /     \\     /     \\     /     \\     /     \\     /     \\     /     \\     /     \\                                                                                         /     \\     /     \\ \n",
            "10  30  50  70  90   110   130   150   170   190   210   230   250   270   290   310   330   350   370   390   410   430   450   470   490   510   530   550   570   590   610   630                                                                                       930   950   970   990\n"
          ]
        }
      ]
    },
    {
      "cell_type": "markdown",
      "source": [
        "Удаление:"
      ],
      "metadata": {
        "id": "nl1UOZyEtam-"
      }
    },
    {
      "cell_type": "code",
      "source": [
        "tree.delete_value(200)\n",
        "print(\"Tree after deletion of 200:\")\n",
        "tree.root.display()"
      ],
      "metadata": {
        "colab": {
          "base_uri": "https://localhost:8080/"
        },
        "id": "Oh7RySbqpGc2",
        "outputId": "aadcfe51-2e68-4813-c96f-64a92ace59bb"
      },
      "execution_count": null,
      "outputs": [
        {
          "output_type": "stream",
          "name": "stdout",
          "text": [
            "Tree after deletion of 200:\n",
            "                                                                                   ______________________________________________________________________________________________640______________________________________________                                                           \n",
            "                                                                                  /                                                                                                                                               \\                                                          \n",
            "                                      ___________________________________________320______________________________________________                                                                         ______________________800______________________                                   \n",
            "                                     /                                                                                            \\                                                                       /                                               \\                                  \n",
            "                ____________________160___________________                                                 ______________________480______________________                                     __________720__________                         __________880__________                       \n",
            "               /                                          \\                                               /                                               \\                                   /                       \\                       /                       \\                      \n",
            "        ______80_________                         _______240__________                         __________400__________                         __________560__________                   ____680____             ____760____             ____840____             ____920__________           \n",
            "       /                 \\                       /                    \\                       /                       \\                       /                       \\                 /           \\           /           \\           /           \\           /                 \\          \n",
            "    __40___         ____120____             ____210_             ____280____             ____360____             ____440____             ____520____             ____600____          _660_       _700_       _740_       _780_       _820_       _860_       _900_          ____960____     \n",
            "   /       \\       /           \\           /        \\           /           \\           /           \\           /           \\           /           \\           /           \\        /     \\     /     \\     /     \\     /     \\     /     \\     /     \\     /     \\        /           \\    \n",
            "  20_     60_     100_       _140_       _180_     220_       _260_       _300_       _340_       _380_       _420_       _460_       _500_       _540_       _580_       _620_     650   670   690   710   730   750   770   790   810   830   850   870   890   910     _940_       _980_  \n",
            " /   \\   /   \\   /    \\     /     \\     /     \\        \\     /     \\     /     \\     /     \\     /     \\     /     \\     /     \\     /     \\     /     \\     /     \\     /     \\                                                                                         /     \\     /     \\ \n",
            "10  30  50  70  90   110   130   150   170   190      230   250   270   290   310   330   350   370   390   410   430   450   470   490   510   530   550   570   590   610   630                                                                                       930   950   970   990\n"
          ]
        }
      ]
    },
    {
      "cell_type": "markdown",
      "source": [
        "Поиск значения:"
      ],
      "metadata": {
        "id": "bSkIpBDLc7eo"
      }
    },
    {
      "cell_type": "code",
      "source": [
        "result = tree.search_value(30)\n",
        "if result:\n",
        "    print(\"Node found\")\n",
        "else:\n",
        "    print(\"Node not found\")"
      ],
      "metadata": {
        "colab": {
          "base_uri": "https://localhost:8080/"
        },
        "id": "C9WkuXXpoYzH",
        "outputId": "e6bdcdfb-1c9a-460f-fa75-b67d998cd303"
      },
      "execution_count": null,
      "outputs": [
        {
          "output_type": "stream",
          "name": "stdout",
          "text": [
            "way: 640\n",
            "way: 320\n",
            "way: 160\n",
            "way: 80\n",
            "way: 40\n",
            "way: 20\n",
            "way: 30\n",
            "Node found\n"
          ]
        }
      ]
    },
    {
      "cell_type": "markdown",
      "source": [
        "Сортировка списка:"
      ],
      "metadata": {
        "id": "qCr4lLhhtdE-"
      }
    },
    {
      "cell_type": "code",
      "source": [
        "from random import sample\n",
        "array = sample(range(1000), 100)\n",
        "print(array)\n",
        "\n",
        "tree2 = AVLTree()\n",
        "for i in array:\n",
        "  tree2.insert_value(i)\n",
        "tree2.root.display()\n",
        "def sort_array(root, array):\n",
        "        if root:\n",
        "            if root.left:\n",
        "                sort_array(root.left, array)\n",
        "            array.append(root.value)\n",
        "            if root.right:\n",
        "                sort_array(root.right, array)\n",
        "new_array = []\n",
        "sort_array(tree2.root, new_array)\n",
        "print(new_array)"
      ],
      "metadata": {
        "colab": {
          "base_uri": "https://localhost:8080/"
        },
        "id": "nZlbEwo3q3aW",
        "outputId": "9b41e2cb-1bb3-469a-99b8-5ffa8d99c2cf"
      },
      "execution_count": null,
      "outputs": [
        {
          "output_type": "stream",
          "name": "stdout",
          "text": [
            "[838, 522, 234, 619, 201, 93, 271, 226, 742, 471, 285, 759, 551, 465, 500, 693, 177, 501, 259, 862, 972, 91, 512, 778, 220, 135, 570, 227, 679, 768, 291, 387, 781, 630, 474, 80, 989, 597, 845, 66, 754, 718, 415, 542, 225, 362, 247, 242, 855, 212, 648, 897, 756, 746, 827, 75, 925, 641, 687, 36, 120, 384, 683, 164, 892, 546, 396, 76, 490, 341, 403, 769, 760, 355, 494, 979, 399, 277, 117, 481, 67, 81, 152, 813, 405, 43, 903, 535, 961, 817, 621, 869, 156, 713, 462, 607, 516, 930, 468, 420]\n",
            "                                                             ________________________________________________________________471__________________________________________________________________________________                                                                                \n",
            "                                                            /                                                                                                                                                     \\                                                                               \n",
            "                    _______________________________________234__________________________________                                                                                  _______________________________742_____________________________________                                         \n",
            "                   /                                                                            \\                                                                                /                                                                       \\                                        \n",
            "          ________93______________________                                     ________________387_______                                                 ______________________619_____________                                     ___________________838________________                       \n",
            "         /                                \\                                   /                          \\                                               /                                      \\                                   /                                      \\                      \n",
            "      __75___               _____________201__________                _______285__________             _403__________                         __________522_______                         ____679_______                   _______768_______                      _______897_____________        \n",
            "     /       \\             /                          \\              /                    \\           /              \\                       /                    \\                       /              \\                 /                 \\                    /                       \\       \n",
            "  __66_     80___        _135_______             ____226_          _259_             ____362_       _399        ____462_                ____500____             _546____                _641_          _693____          _756_             _781____             _862____          _______972____  \n",
            " /     \\   /     \\      /           \\           /        \\        /     \\           /        \\     /           /        \\              /           \\           /        \\              /     \\        /        \\        /     \\           /        \\           /        \\        /              \\ \n",
            "36_   67  76    91    _120     ____164_       _220_     227     _247   271_       _341_     384   396        _415_     465_       ____490_       _512_       _542     _570_          _630   648     _687     _718     _754   759_       _778     _817_       _855     _892     _925____       _989\n",
            "   \\           /     /        /        \\     /     \\           /           \\     /     \\                    /     \\        \\     /        \\     /     \\     /        /     \\        /              /        /        /           \\     /        /     \\     /        /        /        \\     /    \n",
            "  43          81    117      152_     177   212   225         242         277   291   355                  405   420      468   474_     494   501   516   535      551   597_     621            683      713      746         760   769      813   827   845      869      903     _961   979   \n",
            "                                 \\                                                                                                  \\                                         \\                                                                                                     /             \n",
            "                                156                                                                                                481                                       607                                                                                                   930            \n",
            "[36, 43, 66, 67, 75, 76, 80, 81, 91, 93, 117, 120, 135, 152, 156, 164, 177, 201, 212, 220, 225, 226, 227, 234, 242, 247, 259, 271, 277, 285, 291, 341, 355, 362, 384, 387, 396, 399, 403, 405, 415, 420, 462, 465, 468, 471, 474, 481, 490, 494, 500, 501, 512, 516, 522, 535, 542, 546, 551, 570, 597, 607, 619, 621, 630, 641, 648, 679, 683, 687, 693, 713, 718, 742, 746, 754, 756, 759, 760, 768, 769, 778, 781, 813, 817, 827, 838, 845, 855, 862, 869, 892, 897, 903, 925, 930, 961, 972, 979, 989]\n"
          ]
        }
      ]
    }
  ]
}